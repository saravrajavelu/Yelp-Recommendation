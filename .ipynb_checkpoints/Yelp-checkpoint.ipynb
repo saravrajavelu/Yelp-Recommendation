{
 "cells": [
  {
   "cell_type": "code",
   "execution_count": 1,
   "metadata": {},
   "outputs": [],
   "source": [
    "# Library Imports \n",
    "\n",
    "import numpy as np\n",
    "import pandas as pd\n",
    "import pickle\n",
    "from sklearn.model_selection import train_test_split\n",
    "\n",
    "% matplotlib inline"
   ]
  },
  {
   "cell_type": "markdown",
   "metadata": {},
   "source": [
    "## Business Data"
   ]
  },
  {
   "cell_type": "code",
   "execution_count": 2,
   "metadata": {},
   "outputs": [
    {
     "name": "stdout",
     "output_type": "stream",
     "text": [
      "(174567, 15)\n"
     ]
    },
    {
     "data": {
      "text/html": [
       "<div>\n",
       "<style scoped>\n",
       "    .dataframe tbody tr th:only-of-type {\n",
       "        vertical-align: middle;\n",
       "    }\n",
       "\n",
       "    .dataframe tbody tr th {\n",
       "        vertical-align: top;\n",
       "    }\n",
       "\n",
       "    .dataframe thead th {\n",
       "        text-align: right;\n",
       "    }\n",
       "</style>\n",
       "<table border=\"1\" class=\"dataframe\">\n",
       "  <thead>\n",
       "    <tr style=\"text-align: right;\">\n",
       "      <th></th>\n",
       "      <th>attributes</th>\n",
       "      <th>business_id</th>\n",
       "      <th>categories</th>\n",
       "      <th>city</th>\n",
       "      <th>hours</th>\n",
       "      <th>name</th>\n",
       "      <th>neighborhood</th>\n",
       "      <th>postal_code</th>\n",
       "      <th>review_count</th>\n",
       "      <th>stars</th>\n",
       "      <th>state</th>\n",
       "    </tr>\n",
       "  </thead>\n",
       "  <tbody>\n",
       "    <tr>\n",
       "      <th>0</th>\n",
       "      <td>{'AcceptsInsurance': True, 'ByAppointmentOnly'...</td>\n",
       "      <td>FYWN1wneV18bWNgQjJ2GNg</td>\n",
       "      <td>[Dentists, General Dentistry, Health &amp; Medical...</td>\n",
       "      <td>Ahwatukee</td>\n",
       "      <td>{'Friday': '7:30-17:00', 'Tuesday': '7:30-17:0...</td>\n",
       "      <td>Dental by Design</td>\n",
       "      <td></td>\n",
       "      <td>85044</td>\n",
       "      <td>22</td>\n",
       "      <td>4.0</td>\n",
       "      <td>AZ</td>\n",
       "    </tr>\n",
       "    <tr>\n",
       "      <th>1</th>\n",
       "      <td>{'BusinessParking': {'garage': False, 'street'...</td>\n",
       "      <td>He-G7vWjzVUysIKrfNbPUQ</td>\n",
       "      <td>[Hair Stylists, Hair Salons, Men's Hair Salons...</td>\n",
       "      <td>McMurray</td>\n",
       "      <td>{'Monday': '9:00-20:00', 'Tuesday': '9:00-20:0...</td>\n",
       "      <td>Stephen Szabo Salon</td>\n",
       "      <td></td>\n",
       "      <td>15317</td>\n",
       "      <td>11</td>\n",
       "      <td>3.0</td>\n",
       "      <td>PA</td>\n",
       "    </tr>\n",
       "    <tr>\n",
       "      <th>2</th>\n",
       "      <td>{}</td>\n",
       "      <td>KQPW8lFf1y5BT2MxiSZ3QA</td>\n",
       "      <td>[Departments of Motor Vehicles, Public Service...</td>\n",
       "      <td>Phoenix</td>\n",
       "      <td>{}</td>\n",
       "      <td>Western Motor Vehicle</td>\n",
       "      <td></td>\n",
       "      <td>85017</td>\n",
       "      <td>18</td>\n",
       "      <td>1.5</td>\n",
       "      <td>AZ</td>\n",
       "    </tr>\n",
       "    <tr>\n",
       "      <th>4</th>\n",
       "      <td>{'Alcohol': 'full_bar', 'HasTV': True, 'NoiseL...</td>\n",
       "      <td>PfOCPjBrlQAnz__NXj9h_w</td>\n",
       "      <td>[American (New), Nightlife, Bars, Sandwiches, ...</td>\n",
       "      <td>Cuyahoga Falls</td>\n",
       "      <td>{'Monday': '11:00-1:00', 'Tuesday': '11:00-1:0...</td>\n",
       "      <td>Brick House Tavern + Tap</td>\n",
       "      <td></td>\n",
       "      <td>44221</td>\n",
       "      <td>116</td>\n",
       "      <td>3.5</td>\n",
       "      <td>OH</td>\n",
       "    </tr>\n",
       "    <tr>\n",
       "      <th>5</th>\n",
       "      <td>{'GoodForMeal': {'dessert': False, 'latenight'...</td>\n",
       "      <td>o9eMRCWt5PkpLDE0gOPtcQ</td>\n",
       "      <td>[Italian, Restaurants]</td>\n",
       "      <td>Stuttgart</td>\n",
       "      <td>{'Monday': '18:00-0:00', 'Tuesday': '18:00-0:0...</td>\n",
       "      <td>Messina</td>\n",
       "      <td></td>\n",
       "      <td>70567</td>\n",
       "      <td>5</td>\n",
       "      <td>4.0</td>\n",
       "      <td>BW</td>\n",
       "    </tr>\n",
       "  </tbody>\n",
       "</table>\n",
       "</div>"
      ],
      "text/plain": [
       "                                          attributes             business_id  \\\n",
       "0  {'AcceptsInsurance': True, 'ByAppointmentOnly'...  FYWN1wneV18bWNgQjJ2GNg   \n",
       "1  {'BusinessParking': {'garage': False, 'street'...  He-G7vWjzVUysIKrfNbPUQ   \n",
       "2                                                 {}  KQPW8lFf1y5BT2MxiSZ3QA   \n",
       "4  {'Alcohol': 'full_bar', 'HasTV': True, 'NoiseL...  PfOCPjBrlQAnz__NXj9h_w   \n",
       "5  {'GoodForMeal': {'dessert': False, 'latenight'...  o9eMRCWt5PkpLDE0gOPtcQ   \n",
       "\n",
       "                                          categories            city  \\\n",
       "0  [Dentists, General Dentistry, Health & Medical...       Ahwatukee   \n",
       "1  [Hair Stylists, Hair Salons, Men's Hair Salons...        McMurray   \n",
       "2  [Departments of Motor Vehicles, Public Service...         Phoenix   \n",
       "4  [American (New), Nightlife, Bars, Sandwiches, ...  Cuyahoga Falls   \n",
       "5                             [Italian, Restaurants]       Stuttgart   \n",
       "\n",
       "                                               hours  \\\n",
       "0  {'Friday': '7:30-17:00', 'Tuesday': '7:30-17:0...   \n",
       "1  {'Monday': '9:00-20:00', 'Tuesday': '9:00-20:0...   \n",
       "2                                                 {}   \n",
       "4  {'Monday': '11:00-1:00', 'Tuesday': '11:00-1:0...   \n",
       "5  {'Monday': '18:00-0:00', 'Tuesday': '18:00-0:0...   \n",
       "\n",
       "                       name neighborhood postal_code  review_count  stars  \\\n",
       "0          Dental by Design                    85044            22    4.0   \n",
       "1       Stephen Szabo Salon                    15317            11    3.0   \n",
       "2     Western Motor Vehicle                    85017            18    1.5   \n",
       "4  Brick House Tavern + Tap                    44221           116    3.5   \n",
       "5                   Messina                    70567             5    4.0   \n",
       "\n",
       "  state  \n",
       "0    AZ  \n",
       "1    PA  \n",
       "2    AZ  \n",
       "4    OH  \n",
       "5    BW  "
      ]
     },
     "execution_count": 2,
     "metadata": {},
     "output_type": "execute_result"
    }
   ],
   "source": [
    "business = pd.read_json('./Data/business.json', lines =  True)\n",
    "#business = pd.read_pickle('business.pkl')\n",
    "\n",
    "print(business.shape)\n",
    "\n",
    "\n",
    "# Only open businesses & with categories\n",
    "business = business[business.is_open == 1]\n",
    "business.drop(columns = ['address','is_open', 'latitude', 'longitude'], inplace = True)\n",
    "business = business[business.categories.apply(len) != 0]\n",
    "\n",
    "business.head()"
   ]
  },
  {
   "cell_type": "code",
   "execution_count": 5,
   "metadata": {},
   "outputs": [
    {
     "name": "stdout",
     "output_type": "stream",
     "text": [
      "Size :  (146226, 11)\n",
      "<class 'pandas.core.frame.DataFrame'>\n",
      "Int64Index: 146226 entries, 0 to 174566\n",
      "Data columns (total 11 columns):\n",
      "attributes      146226 non-null object\n",
      "business_id     146226 non-null object\n",
      "categories      146226 non-null object\n",
      "city            146226 non-null object\n",
      "hours           146226 non-null object\n",
      "name            146226 non-null object\n",
      "neighborhood    146226 non-null object\n",
      "postal_code     146226 non-null object\n",
      "review_count    146226 non-null int64\n",
      "stars           146226 non-null float64\n",
      "state           146226 non-null object\n",
      "dtypes: float64(1), int64(1), object(9)\n",
      "memory usage: 13.4+ MB\n"
     ]
    },
    {
     "data": {
      "text/plain": [
       "None"
      ]
     },
     "metadata": {},
     "output_type": "display_data"
    }
   ],
   "source": [
    "print('Size : ',business.shape)\n",
    "display(business.info())"
   ]
  },
  {
   "cell_type": "markdown",
   "metadata": {},
   "source": [
    "## Review Data"
   ]
  },
  {
   "cell_type": "code",
   "execution_count": 6,
   "metadata": {
    "scrolled": true
   },
   "outputs": [
    {
     "name": "stdout",
     "output_type": "stream",
     "text": [
      "(5261669, 7)\n"
     ]
    },
    {
     "data": {
      "text/html": [
       "<div>\n",
       "<style scoped>\n",
       "    .dataframe tbody tr th:only-of-type {\n",
       "        vertical-align: middle;\n",
       "    }\n",
       "\n",
       "    .dataframe tbody tr th {\n",
       "        vertical-align: top;\n",
       "    }\n",
       "\n",
       "    .dataframe thead th {\n",
       "        text-align: right;\n",
       "    }\n",
       "</style>\n",
       "<table border=\"1\" class=\"dataframe\">\n",
       "  <thead>\n",
       "    <tr style=\"text-align: right;\">\n",
       "      <th></th>\n",
       "      <th>business_id</th>\n",
       "      <th>date</th>\n",
       "      <th>review_id</th>\n",
       "      <th>stars</th>\n",
       "      <th>text</th>\n",
       "      <th>useful</th>\n",
       "      <th>user_id</th>\n",
       "    </tr>\n",
       "  </thead>\n",
       "  <tbody>\n",
       "    <tr>\n",
       "      <th>0</th>\n",
       "      <td>0W4lkclzZThpx3V65bVgig</td>\n",
       "      <td>2016-05-28</td>\n",
       "      <td>v0i_UHJMo_hPBq9bxWvW4w</td>\n",
       "      <td>5</td>\n",
       "      <td>Love the staff, love the meat, love the place....</td>\n",
       "      <td>0</td>\n",
       "      <td>bv2nCi5Qv5vroFiqKGopiw</td>\n",
       "    </tr>\n",
       "    <tr>\n",
       "      <th>1</th>\n",
       "      <td>AEx2SYEUJmTxVVB18LlCwA</td>\n",
       "      <td>2016-05-28</td>\n",
       "      <td>vkVSCC7xljjrAI4UGfnKEQ</td>\n",
       "      <td>5</td>\n",
       "      <td>Super simple place but amazing nonetheless. It...</td>\n",
       "      <td>0</td>\n",
       "      <td>bv2nCi5Qv5vroFiqKGopiw</td>\n",
       "    </tr>\n",
       "    <tr>\n",
       "      <th>2</th>\n",
       "      <td>VR6GpWIda3SfvPC-lg9H3w</td>\n",
       "      <td>2016-05-28</td>\n",
       "      <td>n6QzIUObkYshz4dz2QRJTw</td>\n",
       "      <td>5</td>\n",
       "      <td>Small unassuming place that changes their menu...</td>\n",
       "      <td>0</td>\n",
       "      <td>bv2nCi5Qv5vroFiqKGopiw</td>\n",
       "    </tr>\n",
       "    <tr>\n",
       "      <th>3</th>\n",
       "      <td>CKC0-MOWMqoeWf6s-szl8g</td>\n",
       "      <td>2016-05-28</td>\n",
       "      <td>MV3CcKScW05u5LVfF6ok0g</td>\n",
       "      <td>5</td>\n",
       "      <td>Lester's is located in a beautiful neighborhoo...</td>\n",
       "      <td>0</td>\n",
       "      <td>bv2nCi5Qv5vroFiqKGopiw</td>\n",
       "    </tr>\n",
       "    <tr>\n",
       "      <th>4</th>\n",
       "      <td>ACFtxLv8pGrrxMm6EgjreA</td>\n",
       "      <td>2016-05-28</td>\n",
       "      <td>IXvOzsEMYtiJI0CARmj77Q</td>\n",
       "      <td>4</td>\n",
       "      <td>Love coming here. Yes the place always needs t...</td>\n",
       "      <td>0</td>\n",
       "      <td>bv2nCi5Qv5vroFiqKGopiw</td>\n",
       "    </tr>\n",
       "  </tbody>\n",
       "</table>\n",
       "</div>"
      ],
      "text/plain": [
       "              business_id       date               review_id  stars  \\\n",
       "0  0W4lkclzZThpx3V65bVgig 2016-05-28  v0i_UHJMo_hPBq9bxWvW4w      5   \n",
       "1  AEx2SYEUJmTxVVB18LlCwA 2016-05-28  vkVSCC7xljjrAI4UGfnKEQ      5   \n",
       "2  VR6GpWIda3SfvPC-lg9H3w 2016-05-28  n6QzIUObkYshz4dz2QRJTw      5   \n",
       "3  CKC0-MOWMqoeWf6s-szl8g 2016-05-28  MV3CcKScW05u5LVfF6ok0g      5   \n",
       "4  ACFtxLv8pGrrxMm6EgjreA 2016-05-28  IXvOzsEMYtiJI0CARmj77Q      4   \n",
       "\n",
       "                                                text  useful  \\\n",
       "0  Love the staff, love the meat, love the place....       0   \n",
       "1  Super simple place but amazing nonetheless. It...       0   \n",
       "2  Small unassuming place that changes their menu...       0   \n",
       "3  Lester's is located in a beautiful neighborhoo...       0   \n",
       "4  Love coming here. Yes the place always needs t...       0   \n",
       "\n",
       "                  user_id  \n",
       "0  bv2nCi5Qv5vroFiqKGopiw  \n",
       "1  bv2nCi5Qv5vroFiqKGopiw  \n",
       "2  bv2nCi5Qv5vroFiqKGopiw  \n",
       "3  bv2nCi5Qv5vroFiqKGopiw  \n",
       "4  bv2nCi5Qv5vroFiqKGopiw  "
      ]
     },
     "execution_count": 6,
     "metadata": {},
     "output_type": "execute_result"
    }
   ],
   "source": [
    "# Takes a lot of time to read\n",
    "review = pd.DataFrame()\n",
    "\n",
    "df = pd.read_json('./Data/review.json',lines = True, chunksize= 1e5)\n",
    "\n",
    "try:\n",
    "   for df_chunk in df:\n",
    "       review = pd.concat([review, df_chunk])\n",
    "except ValueError:\n",
    "       print ('\\nSome messages in the file cannot be parsed')\n",
    "\n",
    "review.drop(columns = ['cool','funny'], inplace = True)\n",
    "\n",
    "print(review.shape)\n",
    "\n",
    "review.head()"
   ]
  },
  {
   "cell_type": "code",
   "execution_count": 7,
   "metadata": {},
   "outputs": [
    {
     "data": {
      "text/plain": [
       "Index(['business_id', 'date', 'review_id', 'stars', 'text', 'useful',\n",
       "       'user_id'],\n",
       "      dtype='object')"
      ]
     },
     "execution_count": 7,
     "metadata": {},
     "output_type": "execute_result"
    }
   ],
   "source": [
    "review.columns"
   ]
  },
  {
   "cell_type": "code",
   "execution_count": 8,
   "metadata": {},
   "outputs": [
    {
     "data": {
      "text/html": [
       "<div>\n",
       "<style scoped>\n",
       "    .dataframe tbody tr th:only-of-type {\n",
       "        vertical-align: middle;\n",
       "    }\n",
       "\n",
       "    .dataframe tbody tr th {\n",
       "        vertical-align: top;\n",
       "    }\n",
       "\n",
       "    .dataframe thead th {\n",
       "        text-align: right;\n",
       "    }\n",
       "</style>\n",
       "<table border=\"1\" class=\"dataframe\">\n",
       "  <thead>\n",
       "    <tr style=\"text-align: right;\">\n",
       "      <th></th>\n",
       "      <th>stars</th>\n",
       "      <th>useful</th>\n",
       "    </tr>\n",
       "  </thead>\n",
       "  <tbody>\n",
       "    <tr>\n",
       "      <th>count</th>\n",
       "      <td>5.261669e+06</td>\n",
       "      <td>5.261669e+06</td>\n",
       "    </tr>\n",
       "    <tr>\n",
       "      <th>mean</th>\n",
       "      <td>3.727740e+00</td>\n",
       "      <td>1.385085e+00</td>\n",
       "    </tr>\n",
       "    <tr>\n",
       "      <th>std</th>\n",
       "      <td>1.433593e+00</td>\n",
       "      <td>4.528727e+00</td>\n",
       "    </tr>\n",
       "    <tr>\n",
       "      <th>min</th>\n",
       "      <td>1.000000e+00</td>\n",
       "      <td>-1.000000e+00</td>\n",
       "    </tr>\n",
       "    <tr>\n",
       "      <th>25%</th>\n",
       "      <td>3.000000e+00</td>\n",
       "      <td>0.000000e+00</td>\n",
       "    </tr>\n",
       "    <tr>\n",
       "      <th>50%</th>\n",
       "      <td>4.000000e+00</td>\n",
       "      <td>0.000000e+00</td>\n",
       "    </tr>\n",
       "    <tr>\n",
       "      <th>75%</th>\n",
       "      <td>5.000000e+00</td>\n",
       "      <td>2.000000e+00</td>\n",
       "    </tr>\n",
       "    <tr>\n",
       "      <th>max</th>\n",
       "      <td>5.000000e+00</td>\n",
       "      <td>3.364000e+03</td>\n",
       "    </tr>\n",
       "  </tbody>\n",
       "</table>\n",
       "</div>"
      ],
      "text/plain": [
       "              stars        useful\n",
       "count  5.261669e+06  5.261669e+06\n",
       "mean   3.727740e+00  1.385085e+00\n",
       "std    1.433593e+00  4.528727e+00\n",
       "min    1.000000e+00 -1.000000e+00\n",
       "25%    3.000000e+00  0.000000e+00\n",
       "50%    4.000000e+00  0.000000e+00\n",
       "75%    5.000000e+00  2.000000e+00\n",
       "max    5.000000e+00  3.364000e+03"
      ]
     },
     "execution_count": 8,
     "metadata": {},
     "output_type": "execute_result"
    }
   ],
   "source": [
    "review.describe()"
   ]
  },
  {
   "cell_type": "code",
   "execution_count": 9,
   "metadata": {},
   "outputs": [
    {
     "name": "stdout",
     "output_type": "stream",
     "text": [
      "<class 'pandas.core.frame.DataFrame'>\n",
      "RangeIndex: 5261669 entries, 0 to 5261668\n",
      "Data columns (total 7 columns):\n",
      "business_id    object\n",
      "date           datetime64[ns]\n",
      "review_id      object\n",
      "stars          int64\n",
      "text           object\n",
      "useful         int64\n",
      "user_id        object\n",
      "dtypes: datetime64[ns](1), int64(2), object(4)\n",
      "memory usage: 281.0+ MB\n"
     ]
    }
   ],
   "source": [
    "review.info()"
   ]
  },
  {
   "cell_type": "markdown",
   "metadata": {},
   "source": [
    "## Check-In Data"
   ]
  },
  {
   "cell_type": "code",
   "execution_count": 11,
   "metadata": {},
   "outputs": [
    {
     "name": "stdout",
     "output_type": "stream",
     "text": [
      "(146350, 2)\n"
     ]
    },
    {
     "data": {
      "text/html": [
       "<div>\n",
       "<style scoped>\n",
       "    .dataframe tbody tr th:only-of-type {\n",
       "        vertical-align: middle;\n",
       "    }\n",
       "\n",
       "    .dataframe tbody tr th {\n",
       "        vertical-align: top;\n",
       "    }\n",
       "\n",
       "    .dataframe thead th {\n",
       "        text-align: right;\n",
       "    }\n",
       "</style>\n",
       "<table border=\"1\" class=\"dataframe\">\n",
       "  <thead>\n",
       "    <tr style=\"text-align: right;\">\n",
       "      <th></th>\n",
       "      <th>business_id</th>\n",
       "      <th>time</th>\n",
       "    </tr>\n",
       "  </thead>\n",
       "  <tbody>\n",
       "    <tr>\n",
       "      <th>0</th>\n",
       "      <td>7KPBkxAOEtb3QeIL9PEErg</td>\n",
       "      <td>{'Thursday': {'21:00': 4, '1:00': 1, '4:00': 1...</td>\n",
       "    </tr>\n",
       "    <tr>\n",
       "      <th>1</th>\n",
       "      <td>kREVIrSBbtqBhIYkTccQUg</td>\n",
       "      <td>{'Monday': {'13:00': 1}, 'Thursday': {'20:00':...</td>\n",
       "    </tr>\n",
       "    <tr>\n",
       "      <th>2</th>\n",
       "      <td>tJRDll5yqpZwehenzE2cSg</td>\n",
       "      <td>{'Monday': {'12:00': 1, '1:00': 1}, 'Friday': ...</td>\n",
       "    </tr>\n",
       "    <tr>\n",
       "      <th>3</th>\n",
       "      <td>r1p7RAMzCV_6NPF0dNoR3g</td>\n",
       "      <td>{'Thursday': {'23:00': 1}, 'Saturday': {'21:00...</td>\n",
       "    </tr>\n",
       "    <tr>\n",
       "      <th>4</th>\n",
       "      <td>mDdqgfrvROGAumcQdZ3HIg</td>\n",
       "      <td>{'Monday': {'12:00': 1, '21:00': 1}, 'Wednesda...</td>\n",
       "    </tr>\n",
       "  </tbody>\n",
       "</table>\n",
       "</div>"
      ],
      "text/plain": [
       "              business_id                                               time\n",
       "0  7KPBkxAOEtb3QeIL9PEErg  {'Thursday': {'21:00': 4, '1:00': 1, '4:00': 1...\n",
       "1  kREVIrSBbtqBhIYkTccQUg  {'Monday': {'13:00': 1}, 'Thursday': {'20:00':...\n",
       "2  tJRDll5yqpZwehenzE2cSg  {'Monday': {'12:00': 1, '1:00': 1}, 'Friday': ...\n",
       "3  r1p7RAMzCV_6NPF0dNoR3g  {'Thursday': {'23:00': 1}, 'Saturday': {'21:00...\n",
       "4  mDdqgfrvROGAumcQdZ3HIg  {'Monday': {'12:00': 1, '21:00': 1}, 'Wednesda..."
      ]
     },
     "execution_count": 11,
     "metadata": {},
     "output_type": "execute_result"
    }
   ],
   "source": [
    "checkin = pd.read_json('./Data/checkin.json', lines = True)\n",
    "#checkin = pd.read_pickle('checkin.pkl')\n",
    "print(checkin.shape)\n",
    "checkin.head()"
   ]
  },
  {
   "cell_type": "markdown",
   "metadata": {},
   "source": [
    "## User Data"
   ]
  },
  {
   "cell_type": "code",
   "execution_count": 13,
   "metadata": {},
   "outputs": [
    {
     "name": "stdout",
     "output_type": "stream",
     "text": [
      "(1326101, 4)\n"
     ]
    },
    {
     "data": {
      "text/html": [
       "<div>\n",
       "<style scoped>\n",
       "    .dataframe tbody tr th:only-of-type {\n",
       "        vertical-align: middle;\n",
       "    }\n",
       "\n",
       "    .dataframe tbody tr th {\n",
       "        vertical-align: top;\n",
       "    }\n",
       "\n",
       "    .dataframe thead th {\n",
       "        text-align: right;\n",
       "    }\n",
       "</style>\n",
       "<table border=\"1\" class=\"dataframe\">\n",
       "  <thead>\n",
       "    <tr style=\"text-align: right;\">\n",
       "      <th></th>\n",
       "      <th>average_stars</th>\n",
       "      <th>name</th>\n",
       "      <th>review_count</th>\n",
       "      <th>user_id</th>\n",
       "    </tr>\n",
       "  </thead>\n",
       "  <tbody>\n",
       "    <tr>\n",
       "      <th>0</th>\n",
       "      <td>4.67</td>\n",
       "      <td>Johnny</td>\n",
       "      <td>8</td>\n",
       "      <td>oMy_rEb0UBEmMlu-zcxnoQ</td>\n",
       "    </tr>\n",
       "    <tr>\n",
       "      <th>1</th>\n",
       "      <td>3.70</td>\n",
       "      <td>Chris</td>\n",
       "      <td>10</td>\n",
       "      <td>JJ-aSuM4pCFPdkfoZ34q0Q</td>\n",
       "    </tr>\n",
       "    <tr>\n",
       "      <th>2</th>\n",
       "      <td>2.00</td>\n",
       "      <td>Tiffy</td>\n",
       "      <td>1</td>\n",
       "      <td>uUzsFQn_6cXDh6rPNGbIFA</td>\n",
       "    </tr>\n",
       "    <tr>\n",
       "      <th>3</th>\n",
       "      <td>4.67</td>\n",
       "      <td>Mark</td>\n",
       "      <td>6</td>\n",
       "      <td>mBneaEEH5EMyxaVyqS-72A</td>\n",
       "    </tr>\n",
       "    <tr>\n",
       "      <th>4</th>\n",
       "      <td>4.67</td>\n",
       "      <td>Evelyn</td>\n",
       "      <td>3</td>\n",
       "      <td>W5mJGs-dcDWRGEhAzUYtoA</td>\n",
       "    </tr>\n",
       "  </tbody>\n",
       "</table>\n",
       "</div>"
      ],
      "text/plain": [
       "   average_stars    name  review_count                 user_id\n",
       "0           4.67  Johnny             8  oMy_rEb0UBEmMlu-zcxnoQ\n",
       "1           3.70   Chris            10  JJ-aSuM4pCFPdkfoZ34q0Q\n",
       "2           2.00   Tiffy             1  uUzsFQn_6cXDh6rPNGbIFA\n",
       "3           4.67    Mark             6  mBneaEEH5EMyxaVyqS-72A\n",
       "4           4.67  Evelyn             3  W5mJGs-dcDWRGEhAzUYtoA"
      ]
     },
     "execution_count": 13,
     "metadata": {},
     "output_type": "execute_result"
    }
   ],
   "source": [
    "user = pd.read_json('./Data/user.json', lines = True)\n",
    "#user = pd.read_pickle('user.pkl')\n",
    "\n",
    "user_columns_to_remove = ['compliment_cool', 'compliment_cute',\n",
    "       'compliment_funny', 'compliment_hot', 'compliment_list',\n",
    "       'compliment_more', 'compliment_note', 'compliment_photos',\n",
    "       'compliment_plain', 'compliment_profile', 'compliment_writer',\n",
    "       'cool', 'elite', 'fans', 'friends', 'funny',\n",
    "       'useful', 'yelping_since']\n",
    "user.drop(columns = user_columns_to_remove, inplace = True)\n",
    "\n",
    "print(user.shape)\n",
    "user.head()"
   ]
  },
  {
   "cell_type": "code",
   "execution_count": 14,
   "metadata": {},
   "outputs": [
    {
     "name": "stdout",
     "output_type": "stream",
     "text": [
      "<class 'pandas.core.frame.DataFrame'>\n",
      "Int64Index: 1326101 entries, 0 to 1326100\n",
      "Data columns (total 4 columns):\n",
      "average_stars    1326101 non-null float64\n",
      "name             1326101 non-null object\n",
      "review_count     1326101 non-null int64\n",
      "user_id          1326101 non-null object\n",
      "dtypes: float64(1), int64(1), object(2)\n",
      "memory usage: 50.6+ MB\n"
     ]
    }
   ],
   "source": [
    "user.info()\n"
   ]
  },
  {
   "cell_type": "markdown",
   "metadata": {},
   "source": [
    "## Using only half the data"
   ]
  },
  {
   "cell_type": "code",
   "execution_count": 15,
   "metadata": {},
   "outputs": [],
   "source": [
    "# train_test_split\n",
    "business, _ = train_test_split(business, test_size = 0.5)\n",
    "review, _ = train_test_split(review, test_size = 0.5)\n",
    "user, _ = train_test_split(user, test_size = 0.5)"
   ]
  },
  {
   "cell_type": "markdown",
   "metadata": {},
   "source": [
    "# Exploratory Data Analysis"
   ]
  },
  {
   "cell_type": "markdown",
   "metadata": {},
   "source": [
    "## Distribution of Reviews"
   ]
  },
  {
   "cell_type": "code",
   "execution_count": 25,
   "metadata": {
    "scrolled": false
   },
   "outputs": [
    {
     "data": {
      "text/plain": [
       "Text(0.5,0,'Number of reviews')"
      ]
     },
     "execution_count": 25,
     "metadata": {},
     "output_type": "execute_result"
    },
    {
     "data": {
      "image/png": "[encoded data removed]",
      "text/plain": [
       "<matplotlib.figure.Figure at 0x15f8880b8>"
      ]
     },
     "metadata": {},
     "output_type": "display_data"
    }
   ],
   "source": [
    "dist_reviews = review.user_id.value_counts().value_counts()\n",
    "\n",
    "ax = np.log(dist_reviews).plot(kind = 'bar', title = 'Distribution of reviews per person', figsize = (20,10))\n",
    "ax.set_ylabel(\"Number of people (in log scale)\")\n",
    "ax.set_xlabel(\"Number of reviews\")"
   ]
  },
  {
   "cell_type": "code",
   "execution_count": 26,
   "metadata": {},
   "outputs": [
    {
     "data": {
      "text/plain": [
       "Text(0.5,0,'Number of reviews')"
      ]
     },
     "execution_count": 26,
     "metadata": {},
     "output_type": "execute_result"
    },
    {
     "data": {
      "image/png": "[encoded data removed]",
      "text/plain": [
       "<matplotlib.figure.Figure at 0x16fd1a278>"
      ]
     },
     "metadata": {},
     "output_type": "display_data"
    }
   ],
   "source": [
    "ax = np.log(dist_reviews[ :100]).plot(kind = 'bar', title = 'Distribution of reviews per person', figsize = (20,10))\n",
    "ax.set_ylabel(\"Number of people (in log scale)\")\n",
    "ax.set_xlabel(\"Number of reviews\")"
   ]
  },
  {
   "cell_type": "markdown",
   "metadata": {},
   "source": [
    "## Person with the most reviews"
   ]
  },
  {
   "cell_type": "code",
   "execution_count": 27,
   "metadata": {
    "scrolled": true
   },
   "outputs": [
    {
     "name": "stdout",
     "output_type": "stream",
     "text": [
      "Name : Kim\n",
      "Number of Reviews : 9788\n",
      "First Review : 2010-07-23 00:00:00\n",
      "Latest Review : 2014-09-02 00:00:00\n"
     ]
    }
   ],
   "source": [
    "max_rev_user_id = user.user_id[user.review_count == max(user.review_count)].values[0]\n",
    "print('Name : %s' % (user.name[user.user_id == max_rev_user_id].values[0]))\n",
    "print('Number of Reviews : %s' % (user.review_count[user.user_id == max_rev_user_id].values[0]))\n",
    "\n",
    "person_most_reviews = review[review.user_id == max_rev_user_id]\n",
    "print('First Review : %s' % min(person_most_reviews.date))\n",
    "print('Latest Review : %s' % max(person_most_reviews.date))"
   ]
  },
  {
   "cell_type": "code",
   "execution_count": 28,
   "metadata": {},
   "outputs": [
    {
     "data": {
      "text/html": [
       "<div>\n",
       "<style scoped>\n",
       "    .dataframe tbody tr th:only-of-type {\n",
       "        vertical-align: middle;\n",
       "    }\n",
       "\n",
       "    .dataframe tbody tr th {\n",
       "        vertical-align: top;\n",
       "    }\n",
       "\n",
       "    .dataframe thead th {\n",
       "        text-align: right;\n",
       "    }\n",
       "</style>\n",
       "<table border=\"1\" class=\"dataframe\">\n",
       "  <thead>\n",
       "    <tr style=\"text-align: right;\">\n",
       "      <th></th>\n",
       "      <th>business_id</th>\n",
       "      <th>date</th>\n",
       "      <th>review_id</th>\n",
       "      <th>stars</th>\n",
       "      <th>text</th>\n",
       "      <th>useful</th>\n",
       "      <th>user_id</th>\n",
       "    </tr>\n",
       "  </thead>\n",
       "  <tbody>\n",
       "    <tr>\n",
       "      <th>4429788</th>\n",
       "      <td>FrBOZaE_8gESAO8ij6hJRQ</td>\n",
       "      <td>2010-07-23</td>\n",
       "      <td>9QlQBuE_IxKimLmhWQg51A</td>\n",
       "      <td>5</td>\n",
       "      <td>The company that started my love of cars and d...</td>\n",
       "      <td>3</td>\n",
       "      <td>P5bUL3Engv-2z6kKohB6qQ</td>\n",
       "    </tr>\n",
       "    <tr>\n",
       "      <th>4429784</th>\n",
       "      <td>FZgrmk2j2VXUVHRq1TfhrA</td>\n",
       "      <td>2014-09-02</td>\n",
       "      <td>vrGdtkDPTOzPjLH5s_8xZg</td>\n",
       "      <td>4</td>\n",
       "      <td>Referred to me by a Frenchman, a French Canadi...</td>\n",
       "      <td>1</td>\n",
       "      <td>P5bUL3Engv-2z6kKohB6qQ</td>\n",
       "    </tr>\n",
       "    <tr>\n",
       "      <th>4429785</th>\n",
       "      <td>uAinKQxXlMz1DvnZaadEeQ</td>\n",
       "      <td>2013-11-01</td>\n",
       "      <td>yto19VIHuo_c8qHibermRA</td>\n",
       "      <td>4</td>\n",
       "      <td>Im waiting for Nairn's to make Haggis in biscu...</td>\n",
       "      <td>1</td>\n",
       "      <td>P5bUL3Engv-2z6kKohB6qQ</td>\n",
       "    </tr>\n",
       "  </tbody>\n",
       "</table>\n",
       "</div>"
      ],
      "text/plain": [
       "                    business_id       date               review_id  stars  \\\n",
       "4429788  FrBOZaE_8gESAO8ij6hJRQ 2010-07-23  9QlQBuE_IxKimLmhWQg51A      5   \n",
       "4429784  FZgrmk2j2VXUVHRq1TfhrA 2014-09-02  vrGdtkDPTOzPjLH5s_8xZg      4   \n",
       "4429785  uAinKQxXlMz1DvnZaadEeQ 2013-11-01  yto19VIHuo_c8qHibermRA      4   \n",
       "\n",
       "                                                      text  useful  \\\n",
       "4429788  The company that started my love of cars and d...       3   \n",
       "4429784  Referred to me by a Frenchman, a French Canadi...       1   \n",
       "4429785  Im waiting for Nairn's to make Haggis in biscu...       1   \n",
       "\n",
       "                        user_id  \n",
       "4429788  P5bUL3Engv-2z6kKohB6qQ  \n",
       "4429784  P5bUL3Engv-2z6kKohB6qQ  \n",
       "4429785  P5bUL3Engv-2z6kKohB6qQ  "
      ]
     },
     "execution_count": 28,
     "metadata": {},
     "output_type": "execute_result"
    }
   ],
   "source": [
    "person_most_reviews"
   ]
  },
  {
   "cell_type": "markdown",
   "metadata": {},
   "source": [
    "## Ratings"
   ]
  },
  {
   "cell_type": "code",
   "execution_count": 30,
   "metadata": {},
   "outputs": [
    {
     "data": {
      "text/plain": [
       "Text(0.5,0,'Rating of review')"
      ]
     },
     "execution_count": 30,
     "metadata": {},
     "output_type": "execute_result"
    },
    {
     "data": {
      "image/png": "[encoded data removed]",
      "text/plain": [
       "<matplotlib.figure.Figure at 0x1b8a8b4e0>"
      ]
     },
     "metadata": {},
     "output_type": "display_data"
    }
   ],
   "source": [
    "ax = review.stars.value_counts().sort_index().plot(kind = 'bar', title = 'Distribution of Ratings')\n",
    "ax.set_ylabel(\"Number of reviews\")\n",
    "ax.set_xlabel(\"Rating of review\")"
   ]
  },
  {
   "cell_type": "code",
   "execution_count": 35,
   "metadata": {
    "scrolled": true
   },
   "outputs": [
    {
     "data": {
      "text/plain": [
       "Text(0.5,0,'Average review rating')"
      ]
     },
     "execution_count": 35,
     "metadata": {},
     "output_type": "execute_result"
    },
    {
     "data": {
      "image/png": "[encoded data removed]",
      "text/plain": [
       "<matplotlib.figure.Figure at 0x1bd92d5c0>"
      ]
     },
     "metadata": {},
     "output_type": "display_data"
    }
   ],
   "source": [
    "avg_rating_user = pd.Series(np.round(review[['stars', 'user_id']].groupby('user_id').mean().stars.values * 2) / 2)\n",
    "ax = avg_rating_user.value_counts().sort_index().plot(kind = 'bar', title = 'Distribution of average review rating')\n",
    "\n",
    "ax.set_ylabel(\"Number of people\")\n",
    "ax.set_xlabel(\"Average review rating\")"
   ]
  },
  {
   "cell_type": "markdown",
   "metadata": {},
   "source": [
    "## Most Common Business Categories"
   ]
  },
  {
   "cell_type": "code",
   "execution_count": 38,
   "metadata": {
    "scrolled": false
   },
   "outputs": [
    {
     "data": {
      "text/plain": [
       "Text(0.5,0,'Business categories')"
      ]
     },
     "execution_count": 38,
     "metadata": {},
     "output_type": "execute_result"
    },
    {
     "data": {
      "image/png": "[encoded data removed]",
      "text/plain": [
       "<matplotlib.figure.Figure at 0x1c0433a20>"
      ]
     },
     "metadata": {},
     "output_type": "display_data"
    }
   ],
   "source": [
    "all_business_categories = [item for sublist in business.categories for item in sublist]\n",
    "ax = pd.Series(all_business_categories).value_counts()[:50].plot(kind = 'bar', title = 'Distribution of business categories')\n",
    "ax.set_ylabel(\"Number of business\")\n",
    "ax.set_xlabel(\"Business categories\")"
   ]
  },
  {
   "cell_type": "markdown",
   "metadata": {},
   "source": [
    "## Most Reviewed Business Categories"
   ]
  },
  {
   "cell_type": "code",
   "execution_count": null,
   "metadata": {
    "scrolled": true
   },
   "outputs": [],
   "source": [
    "x = pd.get_dummies(business.categories.apply(pd.Series).stack()).sum(level = 0)\n",
    "most_reviewed_places = x.apply(lambda x: np.asarray(x) * np.asarray(business.review_count[business.categories.apply(len) != 0]))\n",
    "most_reviewed_places.sum().sort_values(ascending = False)[:20].plot(kind = 'bar')"
   ]
  },
  {
   "cell_type": "code",
   "execution_count": null,
   "metadata": {},
   "outputs": [],
   "source": [
    "most_reviewed_places = x.drop(columns = ['Restaurants', 'Food', 'Nightlife']).apply(lambda x: np.asarray(x) * np.asarray(business.review_count[business.categories.apply(len) != 0]))\n",
    "most_reviewed_places.sum().sort_values(ascending = False)[:20].plot(kind = 'bar')\n"
   ]
  },
  {
   "cell_type": "code",
   "execution_count": null,
   "metadata": {
    "scrolled": true
   },
   "outputs": [],
   "source": [
    "most_reviewed_places = x.drop(columns = ['Restaurants', 'Food', 'Nightlife', 'Bars']).apply(lambda x: np.asarray(x) * np.asarray(business.review_count[business.categories.apply(len) != 0]))\n",
    "most_reviewed_places.sum().sort_values(ascending = False)[:20].plot(kind = 'bar')\n"
   ]
  },
  {
   "cell_type": "markdown",
   "metadata": {
    "scrolled": false
   },
   "source": [
    "# Food Trends"
   ]
  },
  {
   "cell_type": "code",
   "execution_count": null,
   "metadata": {},
   "outputs": [],
   "source": []
  },
  {
   "cell_type": "code",
   "execution_count": null,
   "metadata": {},
   "outputs": [],
   "source": [
    "# Dropping non restaurants businesses\n",
    "bus_cat_filter = business.categories.apply(lambda x: False if 'Restaurants' in x else True)\n",
    "business.drop(business[bus_cat_filter].index, inplace = True)"
   ]
  },
  {
   "cell_type": "code",
   "execution_count": null,
   "metadata": {},
   "outputs": [],
   "source": [
    "# Dropping reviews of non restaurants and non-food business\n",
    "rew_busniess_filter = review.business_id.isin(list(business.business_id))\n",
    "review = review[rew_busniess_filter]"
   ]
  },
  {
   "cell_type": "code",
   "execution_count": null,
   "metadata": {},
   "outputs": [],
   "source": [
    "y = pd.get_dummies(business.categories.apply(pd.Series).stack()).sum(level = 0)\n",
    "y = y.replace(0, np.NaN)\n",
    "ydf = pd.DataFrame(y.multiply(business['stars'], axis = 0).mean())\n",
    "y_fil_index = y.multiply(business['stars'], axis = 0).count()[y.multiply(business['stars'], axis = 0).count() > 5].index"
   ]
  },
  {
   "cell_type": "code",
   "execution_count": null,
   "metadata": {},
   "outputs": [],
   "source": [
    "# business[business.categories.apply(lambda x: True if 'Personal Assistants' in x else False)]['categories'].values"
   ]
  },
  {
   "cell_type": "code",
   "execution_count": null,
   "metadata": {
    "scrolled": true
   },
   "outputs": [],
   "source": [
    "y_fil_index = y.multiply(business['stars'], axis = 0).count()[y.multiply(business['stars'], axis = 0).count() > 50].index\n",
    "ydf.loc[y_fil_index, 0].sort_values(ascending = False)[ :30].plot(kind = 'bar')"
   ]
  },
  {
   "cell_type": "code",
   "execution_count": null,
   "metadata": {},
   "outputs": [],
   "source": []
  },
  {
   "cell_type": "code",
   "execution_count": null,
   "metadata": {},
   "outputs": [],
   "source": []
  },
  {
   "cell_type": "code",
   "execution_count": null,
   "metadata": {
    "scrolled": false
   },
   "outputs": [],
   "source": []
  },
  {
   "cell_type": "code",
   "execution_count": null,
   "metadata": {},
   "outputs": [],
   "source": []
  },
  {
   "cell_type": "code",
   "execution_count": null,
   "metadata": {},
   "outputs": [],
   "source": []
  },
  {
   "cell_type": "markdown",
   "metadata": {},
   "source": [
    "# FEATURE ENGINEERING"
   ]
  },
  {
   "cell_type": "code",
   "execution_count": null,
   "metadata": {},
   "outputs": [],
   "source": [
    "# Avg restaurant rating\n",
    "avg_restaurant_rating = review.groupby('business_id').mean()[['stars']]\n",
    "avg_restaurant_rating.columns = ['avg_rating']\n",
    "business = pd.merge(business, avg_restaurant_rating, how='inner', on=None, \n",
    "                     left_on='business_id', right_on=None,\n",
    "                     left_index=False, right_index=True, sort=True,\n",
    "                     suffixes=('_x', '_y'), copy=True, indicator=False,\n",
    "                     validate=None)"
   ]
  },
  {
   "cell_type": "code",
   "execution_count": null,
   "metadata": {},
   "outputs": [],
   "source": [
    "print(business.columns, business.shape)\n",
    "print(review.columns, review.shape)"
   ]
  },
  {
   "cell_type": "code",
   "execution_count": null,
   "metadata": {},
   "outputs": [],
   "source": [
    "business_categories_df = pd.get_dummies(business.categories.apply(pd.Series).stack()).sum(level=0)\n",
    "business_categories_counts = business_categories_df.sum().sort_values(ascending = False)\n",
    "\n",
    "business_categories_drop = list(business_categories_counts[business_categories_counts < 10].index.values)\n",
    "business_categories_drop.append('Restaurants')\n",
    "business_categories_drop.append('Food')\n",
    "business_categories_df.drop(columns = business_categories_drop, inplace = True)\n",
    "\n",
    "business.drop(columns = ['categories'], inplace = True)\n",
    "business = pd.concat([business, business_categories_df], axis=1)\n",
    "\n",
    "business = business[business[business_categories_df.columns].sum(axis = 1) != 0]\n",
    "print(business.columns, business.shape)"
   ]
  },
  {
   "cell_type": "code",
   "execution_count": null,
   "metadata": {},
   "outputs": [],
   "source": [
    "review.columns = ['business_id', 'date', 'review_id', 'review_stars', 'text', 'useful','user_id']"
   ]
  },
  {
   "cell_type": "code",
   "execution_count": null,
   "metadata": {},
   "outputs": [],
   "source": [
    "business_categories_df.sum().sort_values(ascending = False)[:20].plot(kind = 'bar')"
   ]
  },
  {
   "cell_type": "code",
   "execution_count": null,
   "metadata": {},
   "outputs": [],
   "source": []
  },
  {
   "cell_type": "code",
   "execution_count": null,
   "metadata": {},
   "outputs": [],
   "source": []
  },
  {
   "cell_type": "code",
   "execution_count": null,
   "metadata": {},
   "outputs": [],
   "source": [
    "alldf = pd.merge(business, review, how='inner', on=None, \n",
    "                     left_on='business_id', right_on='business_id',\n",
    "                     left_index=False, right_index=False, sort=True,\n",
    "                     suffixes=('_business', '_review'), copy=True, indicator=False,\n",
    "                     validate=None)\n",
    "alldf = pd.merge(alldf, user, how='inner', on=None, \n",
    "                     left_on='user_id', right_on='user_id',\n",
    "                     left_index=False, right_index=False, sort=True,\n",
    "                     suffixes=('', '_user'), copy=True, indicator=False,\n",
    "                     validate=None)"
   ]
  },
  {
   "cell_type": "code",
   "execution_count": null,
   "metadata": {},
   "outputs": [],
   "source": [
    "for i in alldf.columns:\n",
    "    print(i)"
   ]
  },
  {
   "cell_type": "code",
   "execution_count": null,
   "metadata": {},
   "outputs": [],
   "source": [
    "business.head()"
   ]
  },
  {
   "cell_type": "code",
   "execution_count": null,
   "metadata": {},
   "outputs": [],
   "source": [
    "user_idx = 'gFAdHnUksK22NDhvqkLunA'\n",
    " \n",
    "def userCategoriesRatings(user_id, cols = business_categories_df.columns):\n",
    "    person_filter = alldf.user_id == user_id\n",
    "    df = alldf[person_filter]\n",
    "    df = df.replace(0, np.NaN)\n",
    "\n",
    "    #top_cat = df[cols].apply(lambda x: np.asarray(x) * np.asarray(df.review_stars.values)).mean()\n",
    "    top_cat = df[cols].multiply(df.review_stars, axis = 0).mean()\n",
    "\n",
    "    return top_cat[~(top_cat.isnull())]\n",
    "    \n",
    "userCategoriesRatings(user_idx)"
   ]
  },
  {
   "cell_type": "code",
   "execution_count": null,
   "metadata": {
    "scrolled": true
   },
   "outputs": [],
   "source": []
  },
  {
   "cell_type": "code",
   "execution_count": null,
   "metadata": {},
   "outputs": [],
   "source": [
    "def userVisited(user_id, inverse = 0):\n",
    "    if inverse == 0:\n",
    "        res = review.business_id[review.user_id == user_id].unique()\n",
    "    else:\n",
    "        res = review.business_id[~(review.user_id == user_id)].unique()\n",
    "    return res"
   ]
  },
  {
   "cell_type": "markdown",
   "metadata": {},
   "source": [
    "# Most Popular Recommendations"
   ]
  },
  {
   "cell_type": "code",
   "execution_count": null,
   "metadata": {
    "scrolled": true
   },
   "outputs": [],
   "source": [
    "def mostPopular(user_id, city, limit = 10):\n",
    "    top_picks = business[business.city == city]\n",
    "    \n",
    "    print('Total available options in the location : %d' % (top_picks.shape[0]))\n",
    "    \n",
    "    places_visited = review.business_id[review.user_id == user_id]\n",
    "    \n",
    "    top_picks = top_picks[~top_picks.business_id.isin(places_visited)]\n",
    "    top_picks = top_picks.sort_values('avg_rating', ascending = False)\n",
    "    \n",
    "    return top_picks['name'][:limit].values"
   ]
  },
  {
   "cell_type": "code",
   "execution_count": null,
   "metadata": {},
   "outputs": [],
   "source": [
    "mostPopular('JJ-aSuM4pCFPdkfoZ34q0Q', 'Toronto')"
   ]
  },
  {
   "cell_type": "code",
   "execution_count": null,
   "metadata": {},
   "outputs": [],
   "source": [
    "alldf.columns"
   ]
  },
  {
   "cell_type": "code",
   "execution_count": null,
   "metadata": {},
   "outputs": [],
   "source": []
  },
  {
   "cell_type": "code",
   "execution_count": null,
   "metadata": {},
   "outputs": [],
   "source": [
    "list_col = list(business_categories_df.columns.values)\n",
    "list_col.append('user_id')\n",
    "user_cat_matrix = alldf.loc[:, list_col].multiply(alldf.review_stars, axis = 0).replace(0, np.NaN).groupby('user_id').mean()"
   ]
  },
  {
   "cell_type": "code",
   "execution_count": null,
   "metadata": {},
   "outputs": [],
   "source": [
    "user_cat_matrix"
   ]
  },
  {
   "cell_type": "markdown",
   "metadata": {
    "scrolled": false
   },
   "source": [
    "# User-User Collaborative filtering:"
   ]
  },
  {
   "cell_type": "code",
   "execution_count": null,
   "metadata": {},
   "outputs": [],
   "source": [
    "# User-User Collaborative filtering:\n",
    "\n",
    "def findSimilarRestaurants(user_id, user_cat_matrix = user_cat_matrix, n = 10):\n",
    "    \n",
    "    person = np.array(user_cat_matrix.loc[user_id,])[:, np.newaxis]\n",
    "    others = np.array(user_cat_matrix[user_cat_matrix.index != user_idx])\n",
    "    scores = np.sum((others * person.T), axis = 1)/ (np.sum(person*2) * np.sum(others*2, axis = 1))\n",
    "    \n",
    "    sim_user_id = user_cat_matrix.index.values[np.argsort(-scores)[:n]]\n",
    "    \n",
    "    sim_visited = []\n",
    "    for i in sim_user_id:\n",
    "        sim_visited.extend(userVisited(i))\n",
    "        \n",
    "    sim_visited = pd.DataFrame(pd.Series(sim_visited).value_counts(), columns = ['Counts'])\n",
    "    bus_col = ['stars', 'business_id', 'name']\n",
    "    bus_col.extend(userCategoriesRatings(user_idx).index.values)\n",
    "    \n",
    "    suggestions = pd.merge(sim_visited, business[bus_col], how='inner', on=None, \n",
    "                     left_on=None, right_on='business_id',\n",
    "                     left_index=True, right_index=False, sort=True,\n",
    "                     suffixes=('_business', '_review'), copy=True, indicator=False,\n",
    "                     validate=None)\n",
    "    \n",
    "    suggestions = suggestions[~suggestions.business_id.isin(userVisited(user_idx))]\n",
    "    suggestions['user_fav_cuisine'] = suggestions[userCategoriesRatings(user_idx).index.values].sum(axis = 1)\n",
    "\n",
    "    return suggestions.sort_values(by = ['Counts','stars', 'user_fav_cuisine'], ascending = False)\n",
    "    \n",
    "findSimilarRestaurants(user_idx, user_cat_matrix)"
   ]
  },
  {
   "cell_type": "code",
   "execution_count": null,
   "metadata": {
    "scrolled": true
   },
   "outputs": [],
   "source": []
  },
  {
   "cell_type": "code",
   "execution_count": null,
   "metadata": {},
   "outputs": [],
   "source": []
  },
  {
   "cell_type": "code",
   "execution_count": null,
   "metadata": {},
   "outputs": [],
   "source": []
  },
  {
   "cell_type": "markdown",
   "metadata": {},
   "source": [
    "# Baseline Prediction\n",
    "\n",
    "http://cs229.stanford.edu/proj2013/SawantPai-YelpFoodRecommendationSystem.pdf"
   ]
  },
  {
   "cell_type": "code",
   "execution_count": null,
   "metadata": {},
   "outputs": [],
   "source": [
    "mu = np.mean(review.review_stars)\n",
    "mean_user_ratings = review[['user_id', 'review_stars']].groupby('user_id').mean()\n",
    "mean_business_ratings = review[['business_id', 'review_stars']].groupby('business_id').mean()\n"
   ]
  },
  {
   "cell_type": "code",
   "execution_count": null,
   "metadata": {},
   "outputs": [],
   "source": [
    "def baseline_rating(user_id, business_id, mu = mu):\n",
    "    bu = mean_user_ratings.loc[user_id, 'review_stars']\n",
    "    bf = mean_business_ratings.loc[business_id, 'review_stars'] \n",
    "    \n",
    "    bu -= mu\n",
    "    bf -= mu\n",
    "    \n",
    "    return mu + bf + bu\n",
    "\n",
    "baseline_rating('---udAKDsn0yQXmzbWQNSw','--I7YYLada0tSLkORTHb5Q')"
   ]
  },
  {
   "cell_type": "code",
   "execution_count": null,
   "metadata": {},
   "outputs": [],
   "source": []
  },
  {
   "cell_type": "code",
   "execution_count": null,
   "metadata": {},
   "outputs": [],
   "source": []
  },
  {
   "cell_type": "code",
   "execution_count": null,
   "metadata": {},
   "outputs": [],
   "source": []
  },
  {
   "cell_type": "code",
   "execution_count": null,
   "metadata": {
    "scrolled": true
   },
   "outputs": [],
   "source": [
    "from sklearn.model_selection import train_test_split\n",
    "\n",
    "filtter = ['review_id', '_review_stars', 'business_id', 'text', 'useful', 'address', 'city', 'is_open', 'latitude', 'longitude', 'name', 'postal_code', 'state', 'user_id', 'date']\n",
    "\n",
    "train_data, test_data, train_label, test_label = train_test_split(alldf.drop(columns = filtter), alldf['_review_stars'])\n",
    "\n"
   ]
  },
  {
   "cell_type": "code",
   "execution_count": null,
   "metadata": {},
   "outputs": [],
   "source": [
    "train_data.dtypes"
   ]
  },
  {
   "cell_type": "code",
   "execution_count": null,
   "metadata": {},
   "outputs": [],
   "source": [
    "from sklearn.svm import SVC\n",
    "clf = SVC()\n",
    "clf.fit(train_data, train_label) "
   ]
  },
  {
   "cell_type": "code",
   "execution_count": null,
   "metadata": {},
   "outputs": [],
   "source": [
    "pred = clf.predict(test_data)"
   ]
  },
  {
   "cell_type": "code",
   "execution_count": null,
   "metadata": {},
   "outputs": [],
   "source": [
    "\n",
    "\n",
    "#alldf[alldf.user_id == user_idx][business_categories_df.columns].mul(alldf.review_stars[alldf.user_id == user_idx].astype(int), axis = 1).mean()\n",
    "#alldf.review_stars[alldf.user_id == user_idx]\n",
    "#alldf[alldf.user_id == user_idx][business_categories_df.columns].mul(, axis = 1)\n",
    "\n",
    "#alldf[alldf.user_id == user_idx][business_categories_df.columns].apply(lambda x: np.asarray(x) * np.asarray(alldf.review_stars[alldf.user_id == user_idx]))\n",
    "#alldf[alldf.user_id == user_idx][business_categories_df.columns].apply(lambda x: np.asarray(x) * np.asarray(alldf.review_stars[alldf.user_id == user_idx]))\n"
   ]
  },
  {
   "cell_type": "code",
   "execution_count": null,
   "metadata": {},
   "outputs": [],
   "source": []
  }
 ],
 "metadata": {
  "kernelspec": {
   "display_name": "Python 3",
   "language": "python",
   "name": "python3"
  },
  "language_info": {
   "codemirror_mode": {
    "name": "ipython",
    "version": 3
   },
   "file_extension": ".py",
   "mimetype": "text/x-python",
   "name": "python",
   "nbconvert_exporter": "python",
   "pygments_lexer": "ipython3",
   "version": "3.6.2"
  }
 },
 "nbformat": 4,
 "nbformat_minor": 2
}
